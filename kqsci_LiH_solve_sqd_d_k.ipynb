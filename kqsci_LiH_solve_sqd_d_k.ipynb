{
 "cells": [
  {
   "cell_type": "code",
   "execution_count": 17,
   "id": "f0b70ffc",
   "metadata": {},
   "outputs": [],
   "source": [
    "import qiskit\n",
    "import qiskit_aer\n",
    "import qiskit_nature\n",
    "import qiskit_nature_pyscf\n",
    "import qiskit_algorithms\n",
    "import qiskit_nature_pyscf\n",
    "from qiskit_algorithms.minimum_eigensolvers import NumPyMinimumEigensolver, VQE\n",
    "from qiskit_nature.second_q.transformers import FreezeCoreTransformer\n",
    "from qiskit_nature.second_q.formats.molecule_info import MoleculeInfo\n",
    "from qiskit_nature.second_q.mappers import ParityMapper\n",
    "from qiskit_nature.second_q.circuit.library import UCCSD, HartreeFock\n",
    "from qiskit_nature.second_q.drivers import PySCFDriver\n",
    "from qiskit.circuit.library import EfficientSU2\n",
    "from qiskit_nature.second_q.algorithms import GroundStateEigensolver\n",
    "from qiskit_nature.units import DistanceUnit\n",
    "from qiskit_nature.second_q.mappers import JordanWignerMapper\n",
    "from qiskit_aer import  AerSimulator\n",
    "# from qiskit_nature.second_q.algorithms import VQEUCCFactory\n",
    "from qiskit_algorithms.optimizers import SLSQP\n",
    "from qiskit_aer.primitives import Estimator\n",
    "from qiskit_nature.units import DistanceUnit\n",
    "from qiskit_nature.second_q.drivers import PySCFDriver\n",
    "from qiskit_nature.second_q.problems import ElectronicBasis\n",
    "from qiskit_nature.second_q.transformers import ActiveSpaceTransformer\n",
    "from qiskit_nature.second_q.mappers import ParityMapper\n",
    "from scipy.linalg import eigh\n",
    "from qiskit_nature.second_q.circuit.library import HartreeFock\n",
    "from scipy.linalg import expm\n",
    "from qiskit.quantum_info import Statevector\n",
    "from numpy import pi\n",
    "import pylatexenc\n",
    "import numpy as np\n",
    "import matplotlib.pyplot as plt\n",
    "from qiskit_addon_sqd.counts import counts_to_arrays\n",
    "from qiskit_addon_sqd.qubit import solve_qubit"
   ]
  },
  {
   "cell_type": "code",
   "execution_count": 5,
   "id": "871e2094",
   "metadata": {},
   "outputs": [
    {
     "name": "stdout",
     "output_type": "stream",
     "text": [
      "qiskit                    1.4.0\n",
      "qiskit-addon-sqd          0.10.0\n",
      "qiskit-aer                0.17.0\n",
      "qiskit-algorithms         0.3.1\n",
      "qiskit-nature             0.7.2\n",
      "qiskit-nature-pyscf       0.4.0\n"
     ]
    }
   ],
   "source": [
    "# Check the installed Qiskit packages\n",
    "! pip list | grep qiskit"
   ]
  },
  {
   "cell_type": "code",
   "execution_count": 9,
   "id": "97d688f4",
   "metadata": {},
   "outputs": [],
   "source": [
    "# Define the Li molecule\n",
    "molecule = MoleculeInfo(\n",
    "    symbols=[\"Li\", \"H\"],\n",
    "    coords=([0.0, 0.0, 0.0], [0.0, 0.0, 1.59]),  # Approximate bond distance for He2\n",
    "    multiplicity=1,  # Singlet state\n",
    "    charge=0\n",
    ")\n",
    "\n",
    "# Set up the PySCF driver\n",
    "mdriver = PySCFDriver.from_molecule(\n",
    "    molecule=molecule,\n",
    "    basis=\"sto3g\"\n",
    ")\n",
    "\n",
    "\n",
    "# You can now use the driver to run a calculation\n",
    "electronic_structure_problem = mdriver.run()"
   ]
  },
  {
   "cell_type": "code",
   "execution_count": 10,
   "id": "a94d47d9",
   "metadata": {},
   "outputs": [],
   "source": [
    "mapper = JordanWignerMapper()\n",
    "qubit_hamiltonian = mapper.map(electronic_structure_problem.second_q_ops()[0])"
   ]
  },
  {
   "cell_type": "code",
   "execution_count": 11,
   "id": "4520e3f7",
   "metadata": {},
   "outputs": [],
   "source": [
    "from KQSCI_module import *"
   ]
  },
  {
   "cell_type": "code",
   "execution_count": 12,
   "id": "44d0a9e9",
   "metadata": {},
   "outputs": [],
   "source": [
    "evolved_state_file = \"state_probabilities_pi.txt\"\n",
    "sample_space_size = 3\n",
    "kqsci_size = 3\n",
    "num_qubits = 12\n",
    "state_probabilities = read_states(evolved_state_file)\n",
    "# eigenvalues, eigenvectors = kqsci_eign_SVD(state_probabilities, num_qubits, sample_space_size, kqsci_size, qubit_hamiltonian)"
   ]
  },
  {
   "cell_type": "code",
   "execution_count": null,
   "id": "566f3b05",
   "metadata": {},
   "outputs": [
    {
     "data": {
      "text/plain": [
       "array([-7.88026774, -7.12352517, -6.79921234])"
      ]
     },
     "execution_count": 8,
     "metadata": {},
     "output_type": "execute_result"
    }
   ],
   "source": [
    "# 0.998447567774 + eigenvalues"
   ]
  },
  {
   "cell_type": "code",
   "execution_count": 31,
   "id": "7f622d6d",
   "metadata": {},
   "outputs": [],
   "source": [
    "evolved_state_file = \"state_probabilities_pi.txt\"\n",
    "state_probabilities = read_states(evolved_state_file)\n",
    "max_d = 20\n",
    "max_k = 10\n"
   ]
  },
  {
   "cell_type": "code",
   "execution_count": 15,
   "id": "b98895e0",
   "metadata": {},
   "outputs": [],
   "source": [
    "def selection_sqd(state_probabilities, sample_space_size):\n",
    "    result = {}\n",
    "    print(\"Before normalising the states:\")\n",
    "    for time in sorted(state_probabilities.keys()):\n",
    "        # Get the state probabilities for the current time\n",
    "        probabilities = state_probabilities[time]\n",
    "\n",
    "        # Sort states by their probabilities in descending order and take the top states\n",
    "        top_states = sorted(probabilities.items(), key=lambda x: x[1], reverse=True)[:sample_space_size]\n",
    "\n",
    "        # Store the top states and their probabilities in the result dictionary\n",
    "        result[time] = top_states\n",
    "    return result"
   ]
  },
  {
   "cell_type": "code",
   "execution_count": 16,
   "id": "e3d97679",
   "metadata": {},
   "outputs": [
    {
     "name": "stdout",
     "output_type": "stream",
     "text": [
      "Before normalising the states:\n"
     ]
    },
    {
     "data": {
      "text/plain": [
       "{0.0031415: [('000011000011', 1.0)],\n",
       " 0.35184800000000005: [('000011000011', 0.99766),\n",
       "  ('100001100001', 0.00173),\n",
       "  ('100001000101', 0.00021)],\n",
       " 0.7005545000000001: [('000011000011', 0.9906),\n",
       "  ('100001100001', 0.00714),\n",
       "  ('000101100001', 0.00062)],\n",
       " 1.0492610000000002: [('000011000011', 0.98002),\n",
       "  ('100001100001', 0.01512),\n",
       "  ('100001000101', 0.0012)],\n",
       " 1.3979675: [('000011000011', 0.96577),\n",
       "  ('100001100001', 0.02503),\n",
       "  ('100001000101', 0.00254)],\n",
       " 1.7466740000000003: [('000011000011', 0.95161),\n",
       "  ('100001100001', 0.03493),\n",
       "  ('100001000101', 0.00337)],\n",
       " 2.0953805: [('000011000011', 0.93775),\n",
       "  ('100001100001', 0.04145),\n",
       "  ('100001000101', 0.00439)],\n",
       " 2.444087: [('000011000011', 0.92314),\n",
       "  ('100001100001', 0.04895),\n",
       "  ('100001000101', 0.00651)],\n",
       " 2.7927935: [('000011000011', 0.91261),\n",
       "  ('100001100001', 0.05059),\n",
       "  ('100001000101', 0.00702)],\n",
       " 3.1415: [('000011000011', 0.90448),\n",
       "  ('100001100001', 0.04935),\n",
       "  ('100010000011', 0.00837)]}"
      ]
     },
     "execution_count": 16,
     "metadata": {},
     "output_type": "execute_result"
    }
   ],
   "source": [
    "selection_sqd(state_probabilities, sample_space_size)"
   ]
  },
  {
   "cell_type": "code",
   "execution_count": 57,
   "id": "0e90e3c2",
   "metadata": {},
   "outputs": [
    {
     "name": "stdout",
     "output_type": "stream",
     "text": [
      "Before normalising the states:\n"
     ]
    },
    {
     "data": {
      "text/plain": [
       "{'000011000011': 0.9435117797297868,\n",
       " '100001100001': 0.04909952447177657,\n",
       " '100001000101': 0.0031204933117247855,\n",
       " '000101100001': 2.58226451219238e-06,\n",
       " '100010000011': 0.004265620222199572}"
      ]
     },
     "execution_count": 57,
     "metadata": {},
     "output_type": "execute_result"
    }
   ],
   "source": [
    "# with open(\"LiH_KQSCI_result_sqd_d_k.txt\", \"a\") as file:\n",
    "# state_probabilities = selection_sqd(state_probabilities, sample_space_size)\n",
    "result  = selection_sqd(state_probabilities, sample_space_size)\n",
    "states={}\n",
    "for time in list(result.keys()):\n",
    "    if time != 0:\n",
    "        # Perform SQD analysis for the current time step\n",
    "        counts = result[time]\n",
    "    #     # Perform SQD analysis for the current time step\n",
    "    #     chis, coeff =  counts_to_arrays(counts)\n",
    "    #     eignvalues, eignvector  = solve_qubit(chis, qubit_hamiltonian)\n",
    "    #     # Print the results\n",
    "    #     print(f\"Time: {time}, Eigenvalues: {eignvalues[0]}, GS_energy: {eignvalues[0]+0.998447567774}\")\n",
    "    #     file.write(f\"Time:{time} , GS_energy:{eignvalues[0]+0.998447567774}\\n\")\n",
    "    #     file.flush()\n",
    "    # # Skip the first time step\n",
    "    #     # Perform SQD analysis for the current time step\n",
    "        for key, value in counts:\n",
    "            if key in states:\n",
    "                states[key] += value\n",
    "            else:\n",
    "                states[key] = value\n",
    "        # # print(sorted(states.items(), key=lambda x: x[1], reverse=True)[:sample_space_size])\n",
    "        # if key in states:\n",
    "        #     states[key] += \n",
    "        # else:\n",
    "        #     states[key] = [value]\n",
    "        # Normalize the state probabilities\n",
    "        total_probability = sum(states.values())\n",
    "        for key in states:\n",
    "            states[key] /= total_probability\n",
    "        # print(states)\n",
    "\n",
    "    else:\n",
    "        # Skip the first time step\n",
    "        continue\n",
    "\n",
    "chis, coeff =  counts_to_arrays(states)\n",
    "# eignvalues, eignvector  = solve_qubit(chis, qubit_hamiltonian)\n",
    "# # Print the results\n",
    "# # print(f\"Time: {time}, Eigenvalues: {eignvalues[0]}, GS_energy: {eignvalues[0]+0.998447567774}\")\n",
    "# # file.write(f\"Time:{time} , GS_energy:{eignvalues[0]+0.998447567774}\\n\")\n",
    "# # file.flush()\n",
    "# eignvalues\n",
    "states"
   ]
  }
 ],
 "metadata": {
  "kernelspec": {
   "display_name": "Python(myenv)",
   "language": "python",
   "name": "myenv"
  },
  "language_info": {
   "codemirror_mode": {
    "name": "ipython",
    "version": 3
   },
   "file_extension": ".py",
   "mimetype": "text/x-python",
   "name": "python",
   "nbconvert_exporter": "python",
   "pygments_lexer": "ipython3",
   "version": "3.12.3"
  }
 },
 "nbformat": 4,
 "nbformat_minor": 5
}
