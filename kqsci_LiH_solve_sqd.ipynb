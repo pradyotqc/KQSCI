{
 "cells": [
  {
   "cell_type": "code",
   "execution_count": 1,
   "id": "f0b70ffc",
   "metadata": {},
   "outputs": [],
   "source": [
    "import qiskit\n",
    "import qiskit_aer\n",
    "import qiskit_nature\n",
    "import qiskit_nature_pyscf\n",
    "import qiskit_algorithms\n",
    "import qiskit_nature_pyscf\n",
    "from qiskit_algorithms.minimum_eigensolvers import NumPyMinimumEigensolver, VQE\n",
    "from qiskit_nature.second_q.transformers import FreezeCoreTransformer\n",
    "from qiskit_nature.second_q.formats.molecule_info import MoleculeInfo\n",
    "from qiskit_nature.second_q.mappers import ParityMapper\n",
    "from qiskit_nature.second_q.circuit.library import UCCSD, HartreeFock\n",
    "from qiskit_nature.second_q.drivers import PySCFDriver\n",
    "from qiskit.circuit.library import EfficientSU2\n",
    "from qiskit_nature.second_q.algorithms import GroundStateEigensolver\n",
    "from qiskit_nature.units import DistanceUnit\n",
    "from qiskit_nature.second_q.mappers import JordanWignerMapper\n",
    "from qiskit_aer import  AerSimulator\n",
    "# from qiskit_nature.second_q.algorithms import VQEUCCFactory\n",
    "from qiskit_algorithms.optimizers import SLSQP\n",
    "from qiskit_aer.primitives import Estimator\n",
    "from qiskit_nature.units import DistanceUnit\n",
    "from qiskit_nature.second_q.drivers import PySCFDriver\n",
    "from qiskit_nature.second_q.problems import ElectronicBasis\n",
    "from qiskit_nature.second_q.transformers import ActiveSpaceTransformer\n",
    "from qiskit_nature.second_q.mappers import ParityMapper\n",
    "from scipy.linalg import eigh\n",
    "from qiskit_nature.second_q.circuit.library import HartreeFock\n",
    "from scipy.linalg import expm\n",
    "from qiskit.quantum_info import Statevector\n",
    "from numpy import pi\n",
    "import pylatexenc\n",
    "import numpy as np\n",
    "import matplotlib.pyplot as plt"
   ]
  },
  {
   "cell_type": "code",
   "execution_count": 2,
   "id": "08dab070",
   "metadata": {},
   "outputs": [],
   "source": [
    "import qiskit_addon_sqd"
   ]
  },
  {
   "cell_type": "code",
   "execution_count": 4,
   "id": "871e2094",
   "metadata": {},
   "outputs": [
    {
     "name": "stdout",
     "output_type": "stream",
     "text": [
      "1.4.0\n",
      "0.17.0\n",
      "0.3.1\n",
      "0.7.2\n",
      "0.4.0\n"
     ]
    }
   ],
   "source": [
    "print(qiskit.__version__)\n",
    "print(qiskit_aer.__version__)\n",
    "print(qiskit_algorithms.__version__)\n",
    "print(qiskit_nature.__version__)\n",
    "print(qiskit_nature_pyscf.__version__)"
   ]
  },
  {
   "cell_type": "code",
   "execution_count": 5,
   "id": "97d688f4",
   "metadata": {},
   "outputs": [],
   "source": [
    "# Define the Li molecule\n",
    "molecule = MoleculeInfo(\n",
    "    symbols=[\"Li\", \"H\"],\n",
    "    coords=([0.0, 0.0, 0.0], [0.0, 0.0, 1.59]),  # Approximate bond distance for He2\n",
    "    multiplicity=1,  # Singlet state\n",
    "    charge=0\n",
    ")\n",
    "\n",
    "# Set up the PySCF driver\n",
    "mdriver = PySCFDriver.from_molecule(\n",
    "    molecule=molecule,\n",
    "    basis=\"sto3g\"\n",
    ")\n",
    "\n",
    "\n",
    "# You can now use the driver to run a calculation\n",
    "electronic_structure_problem = mdriver.run()"
   ]
  },
  {
   "cell_type": "code",
   "execution_count": 6,
   "id": "a94d47d9",
   "metadata": {},
   "outputs": [],
   "source": [
    "mapper = JordanWignerMapper()\n",
    "qubit_hamiltonian = mapper.map(electronic_structure_problem.second_q_ops()[0])"
   ]
  },
  {
   "cell_type": "code",
   "execution_count": 7,
   "id": "4520e3f7",
   "metadata": {},
   "outputs": [],
   "source": [
    "from KQSCI_module import *"
   ]
  },
  {
   "cell_type": "code",
   "execution_count": 8,
   "id": "44d0a9e9",
   "metadata": {},
   "outputs": [],
   "source": [
    "evolved_state_file = \"state_probabilities.txt\"\n",
    "num_qubits = 12\n",
    "state_probabilities = read_states(evolved_state_file)"
   ]
  },
  {
   "cell_type": "code",
   "execution_count": 10,
   "id": "2aebe71c",
   "metadata": {},
   "outputs": [
    {
     "name": "stdout",
     "output_type": "stream",
     "text": [
      "{'000011000011': 1.0}\n",
      "{'000011000011': 0.99927, '100001100001': 0.00057, '100001000101': 5e-05, '000101100001': 5e-05, '001001001001': 1e-05, '010001010010': 1e-05, '010001010001': 1e-05, '000110000110': 2e-05, '001010001010': 1e-05}\n",
      "{'000011000011': 0.99734, '100001100001': 0.00186, '000101100001': 0.00019, '010001010001': 0.00011, '100001000101': 0.00017, '000101000101': 1e-05, '001001001001': 9e-05, '100001000011': 4e-05, '000110000110': 5e-05, '100010100010': 2e-05, '000101000011': 2e-05, '000110000011': 4e-05, '010010010001': 2e-05, '001001001010': 1e-05, '001010001010': 2e-05, '000011000101': 1e-05}\n",
      "{'000011000011': 0.99411, '100001100001': 0.00418, '000110000110': 0.00013, '100001000101': 0.00027, '000101100001': 0.00028, '010010010010': 1e-05, '010001010001': 0.00028, '000011100001': 3e-05, '010001010010': 2e-05, '001001001001': 0.00015, '000011000101': 5e-05, '000110000011': 6e-05, '100001000011': 0.00021, '000011000110': 8e-05, '000101000011': 3e-05, '100010000011': 3e-05, '010010010001': 4e-05, '001010001001': 1e-05, '001001001010': 1e-05, '000101000101': 2e-05}\n",
      "{'000011000011': 0.98909, '100001100001': 0.00724, '100001000101': 0.00068, '010001010001': 0.00036, '000011000110': 0.00016, '010010010010': 3e-05, '000101100001': 0.00061, '001001001001': 0.00029, '001001001010': 3e-05, '000110000011': 0.00028, '100001000011': 0.00051, '000101000101': 5e-05, '000011000101': 7e-05, '000110000110': 0.00015, '001010001010': 6e-05, '100010000011': 3e-05, '010010010001': 3e-05, '000011100001': 0.00012, '010001010010': 4e-05, '000101000011': 9e-05, '100010100010': 4e-05, '100100000011': 1e-05, '001010001001': 2e-05, '000011100100': 1e-05}\n",
      "{'000011000011': 0.98239, '000101100001': 0.00097, '100001000011': 0.00119, '010001010001': 0.00044, '001001001001': 0.0004, '100001100001': 0.01104, '000011000110': 0.00036, '000101000101': 0.00011, '000110000011': 0.00088, '100001000101': 0.00083, '001010001001': 5e-05, '100010000011': 0.00015, '000101000011': 0.00018, '000011100001': 0.00024, '000011000101': 0.00013, '010010010001': 2e-05, '000110000110': 0.00036, '100010100010': 0.0001, '001001001010': 5e-05, '010010010010': 4e-05, '001010001010': 3e-05, '010001010010': 3e-05, '000110100010': 1e-05}\n",
      "{'000011000011': 0.97352, '100001100001': 0.01603, '000101100001': 0.00124, '100001000101': 0.00132, '100001000011': 0.00192, '000110000011': 0.00145, '000011100001': 0.00039, '000101000011': 0.00044, '001001001001': 0.00055, '000011000110': 0.00079, '010010010001': 5e-05, '010001010001': 0.00069, '100010000011': 0.00019, '100010100010': 0.0001, '000011100100': 1e-05, '000110000110': 0.00031, '100100000011': 1e-05, '001010001010': 0.00013, '100001100100': 4e-05, '100100100001': 6e-05, '000011000101': 0.00029, '001010001001': 8e-05, '000101000101': 0.00014, '001001001010': 4e-05, '011000011000': 1e-05, '000110100010': 2e-05, '010010010010': 7e-05, '101000101000': 1e-05, '100010100001': 1e-05, '110000010100': 1e-05, '100100000101': 1e-05, '010001010010': 4e-05, '100010000101': 1e-05, '001010001100': 1e-05, '010010010100': 1e-05}\n",
      "{'000011000011': 0.96046, '100001000101': 0.00193, '000101100001': 0.00163, '100001100001': 0.0217, '001001001001': 0.0008, '000011100001': 0.00057, '100001000011': 0.00407, '000011000110': 0.00144, '000101000101': 0.00022, '000110000011': 0.00289, '000110000110': 0.00052, '010001010010': 0.00011, '000011000101': 0.00045, '010010010001': 0.00014, '000101000011': 0.00078, '000011100010': 3e-05, '100100100001': 9e-05, '010010010010': 0.00016, '010001010001': 0.00091, '100100000011': 2e-05, '100010000011': 0.00045, '110000010001': 2e-05, '100001000110': 1e-05, '001010001010': 0.00017, '100010100010': 0.00011, '000110100001': 1e-05, '100001100100': 4e-05, '110000110000': 1e-05, '010100010010': 1e-05, '000110100010': 6e-05, '001001101000': 1e-05, '001001001010': 5e-05, '100100100100': 2e-05, '100010000101': 2e-05, '000011100100': 1e-05, '100001100010': 2e-05, '001010001001': 5e-05, '001100001001': 1e-05}\n",
      "{'000011000011': 0.94594, '000011000110': 0.00245, '100001000011': 0.00641, '100001100001': 0.02735, '000011100001': 0.00077, '100001000101': 0.00197, '000101100001': 0.00223, '000101000011': 0.00147, '010001010001': 0.00125, '000110000011': 0.00512, '001001001001': 0.00123, '000110000110': 0.00063, '010010010010': 0.00029, '100010000011': 0.00053, '000101000101': 0.0003, '000011000101': 0.00064, '000110100001': 3e-05, '100010100010': 0.00025, '010010010001': 0.00014, '001010001001': 0.00015, '001001001010': 4e-05, '000110100010': 6e-05, '100100100001': 0.00011, '001010001010': 0.00021, '000011100010': 8e-05, '001001001100': 1e-05, '100100000011': 7e-05, '010001010010': 9e-05, '000101000110': 1e-05, '110000110000': 1e-05, '100100000110': 1e-05, '100001100100': 2e-05, '001010101000': 1e-05, '100010100001': 3e-05, '101000101000': 2e-05, '100100000101': 1e-05, '100010000101': 1e-05, '101000001001': 1e-05, '001100001100': 1e-05, '001100001001': 1e-05, '000011100100': 1e-05, '010100010100': 1e-05}\n",
      "{'000011000011': 0.92677, '100001000011': 0.01024, '100001100001': 0.03391, '100001000101': 0.00293, '000101100001': 0.00257, '000011000101': 0.00119, '000011000110': 0.00382, '000101000011': 0.00207, '000110000011': 0.00795, '000101000101': 0.00024, '010001010001': 0.00167, '000011100001': 0.00117, '000011100010': 0.00011, '100010000011': 0.0008, '100010100010': 0.00024, '001001001001': 0.00147, '000110000110': 0.00091, '100100100100': 5e-05, '010010010010': 0.00033, '100001100100': 0.00012, '001001001010': 4e-05, '001010001001': 0.00022, '110000110000': 1e-05, '100100100001': 0.00019, '001100001001': 1e-05, '010100010001': 3e-05, '001010001010': 0.00023, '000110100010': 4e-05, '100010100001': 9e-05, '010010010001': 0.00024, '100001100010': 5e-05, '100100000101': 3e-05, '010001010010': 5e-05, '000101000110': 2e-05, '100100000011': 6e-05, '101000101000': 2e-05, '010010010100': 1e-05, '010001110000': 1e-05, '101000001010': 1e-05, '000110100100': 1e-05, '010001010100': 1e-05, '110000010001': 2e-05, '000101100010': 1e-05, '000110100001': 1e-05, '001100001010': 1e-05, '001001001100': 1e-05}\n"
     ]
    }
   ],
   "source": [
    "# Iterate over each time step in state_probabilities\n",
    "for time, counts in state_probabilities.items():\n",
    "    # Perform SQD analysis for the current time step\n",
    "    # sqd_result = sqd(counts)\n",
    "    # print(f\"Time: {time}, SQD Result: {sqd_result}\")\n",
    "    print(counts)"
   ]
  },
  {
   "cell_type": "code",
   "execution_count": 18,
   "id": "fe460f3d",
   "metadata": {},
   "outputs": [],
   "source": [
    "from qiskit_addon_sqd.counts import counts_to_arrays\n",
    "from qiskit_addon_sqd.qubit import solve_qubit"
   ]
  },
  {
   "cell_type": "code",
   "execution_count": 33,
   "id": "1ccab51d",
   "metadata": {},
   "outputs": [
    {
     "name": "stdout",
     "output_type": "stream",
     "text": [
      "Time: 0.17452777777777778, Eigenvalues: -8.879934969973807\n",
      "Time: 0.34905555555555556, Eigenvalues: -8.880828915763843\n",
      "Time: 0.5235833333333333, Eigenvalues: -8.880872040343506\n",
      "Time: 0.6981111111111111, Eigenvalues: -8.880899043922081\n",
      "Time: 0.872638888888889, Eigenvalues: -8.880896544655839\n",
      "Time: 1.0471666666666666, Eigenvalues: -8.880904025037172\n",
      "Time: 1.2216944444444444, Eigenvalues: -8.880909718931445\n",
      "Time: 1.3962222222222223, Eigenvalues: -8.880907611166839\n",
      "Time: 1.57075, Eigenvalues: -8.880909493201814\n"
     ]
    }
   ],
   "source": [
    "for time in list(state_probabilities.keys()):\n",
    "    if time != 0:\n",
    "        # Perform SQD analysis for the current time step\n",
    "        counts = state_probabilities[time]\n",
    "        # Perform SQD analysis for the current time step\n",
    "        chis, coeff =  counts_to_arrays(counts)\n",
    "        eignvalues, eignvector  = solve_qubit(chis, qubit_hamiltonian)\n",
    "        # Print the results\n",
    "        print(f\"Time: {time}, Eigenvalues: {eignvalues[0]}\")\n",
    "    else:\n",
    "        # Skip the first time step\n",
    "        continue"
   ]
  },
  {
   "cell_type": "code",
   "execution_count": 36,
   "id": "46a010d7",
   "metadata": {},
   "outputs": [],
   "source": [
    "# Combine all dictionaries in state_probabilities into one dictionary\n",
    "states_all = {}\n",
    "for time, counts in state_probabilities.items():\n",
    "    for key, value in counts.items():\n",
    "        if key in states_all:\n",
    "            states_all[key] += value\n",
    "        else:\n",
    "            states_all[key] = value\n"
   ]
  },
  {
   "cell_type": "code",
   "execution_count": 37,
   "id": "c5b458f7",
   "metadata": {},
   "outputs": [
    {
     "data": {
      "text/plain": [
       "np.float64(-8.880918641282538)"
      ]
     },
     "execution_count": 37,
     "metadata": {},
     "output_type": "execute_result"
    }
   ],
   "source": [
    "\n",
    "chis , coeff = counts_to_arrays(states_all)\n",
    "eignvalues, eignvector  = solve_qubit(chis, qubit_hamiltonian)\n",
    "eignvalues[0]"
   ]
  },
  {
   "cell_type": "code",
   "execution_count": 38,
   "id": "461baf82",
   "metadata": {},
   "outputs": [
    {
     "data": {
      "text/plain": [
       "np.float64(-7.882471073508538)"
      ]
     },
     "execution_count": 38,
     "metadata": {},
     "output_type": "execute_result"
    }
   ],
   "source": [
    "eignvalues[0] + 0.998447567774"
   ]
  }
 ],
 "metadata": {
  "kernelspec": {
   "display_name": "myvenv",
   "language": "python",
   "name": "python3"
  },
  "language_info": {
   "codemirror_mode": {
    "name": "ipython",
    "version": 3
   },
   "file_extension": ".py",
   "mimetype": "text/x-python",
   "name": "python",
   "nbconvert_exporter": "python",
   "pygments_lexer": "ipython3",
   "version": "3.12.3"
  }
 },
 "nbformat": 4,
 "nbformat_minor": 5
}
