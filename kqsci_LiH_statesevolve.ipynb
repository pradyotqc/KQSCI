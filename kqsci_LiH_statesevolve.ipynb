{
 "cells": [
  {
   "cell_type": "markdown",
   "metadata": {},
   "source": [
    "This Jupyter Notebook appears to focus on quantum chemistry simulations using Qiskit Nature and related libraries. Here's a summary of the tasks being performed:\n",
    "\n",
    "1. **Setup and Initialization**:\n",
    "    - Install and import necessary libraries for quantum chemistry and quantum computing.\n",
    "    - Define the molecular system (LiH molecule) and its properties, such as geometry, charge, and spin multiplicity.\n",
    "\n",
    "2. **Electronic Structure Problem**:\n",
    "    - Use the PySCF driver to compute the electronic structure of the molecule.\n",
    "    - Extract information like the number of spatial orbitals, spin configurations, and reference energy.\n",
    "\n",
    "3. **Quantum Algorithms**:\n",
    "    - Solve the electronic structure problem using classical and quantum algorithms, such as:\n",
    "      - Hartree-Fock (HF) method.\n",
    "      - Ground-state energy calculation using the NumPyMinimumEigensolver and Jordan-Wigner Mapper.\n",
    "      - Variational Quantum Eigensolver (VQE) and UCCSD ansatz.\n",
    "\n",
    "4. **State Preparation and Evolution**:\n",
    "    - Prepare quantum states (e.g., Hartree-Fock state) and simulate their time evolution using Pauli evolution gates.\n",
    "    - Use simulators like `AerSimulator` and `StatevectorSampler` to compute state probabilities and analyze results.\n",
    "\n",
    "5. **Spin Operators and Observables**:\n",
    "    - Compute spin operators (e.g., \\( S_x, S_y, S_z, S^2 \\)) and map them to qubit operators.\n",
    "    - Evaluate expectation values of these operators for specific quantum states.\n",
    "\n",
    "6. **Matrix Construction and Eigenvalue Problems**:\n",
    "    - Construct Hamiltonian and overlap matrices for selected states.\n",
    "    - Solve generalized eigenvalue problems to compute energies and eigenstates.\n",
    "\n",
    "7. **Full Configuration Interaction (FCI)**:\n",
    "    - Perform FCI calculations using PySCF to obtain highly accurate ground and excited state energies for comparison.\n",
    "\n",
    "8. **Analysis and Visualization**:\n",
    "    - Analyze results, such as state probabilities, normalized states, and expectation values.\n",
    "    - Visualize quantum states and their properties.\n",
    "\n",
    "This notebook combines classical and quantum computational techniques to study the electronic structure and dynamics of the LiH molecule, providing insights into its quantum properties.\n"
   ]
  },
  {
   "cell_type": "code",
   "execution_count": 18,
   "metadata": {
    "executionInfo": {
     "elapsed": 2339,
     "status": "ok",
     "timestamp": 1745039430183,
     "user": {
      "displayName": "pradyot pritam",
      "userId": "12506627774133734291"
     },
     "user_tz": -330
    },
    "id": "sKy9wL8C2qpG"
   },
   "outputs": [],
   "source": [
    "import qiskit\n",
    "import qiskit_aer\n",
    "import qiskit_nature\n",
    "import qiskit_nature_pyscf\n",
    "import qiskit_algorithms\n",
    "import qiskit_nature_pyscf\n",
    "from qiskit_algorithms.minimum_eigensolvers import NumPyMinimumEigensolver, VQE\n",
    "from qiskit_nature.second_q.transformers import FreezeCoreTransformer\n",
    "from qiskit_nature.second_q.formats.molecule_info import MoleculeInfo\n",
    "from qiskit_nature.second_q.mappers import ParityMapper\n",
    "from qiskit_nature.second_q.circuit.library import UCCSD, HartreeFock\n",
    "from qiskit_nature.second_q.drivers import PySCFDriver\n",
    "from qiskit.circuit.library import EfficientSU2\n",
    "from qiskit_nature.second_q.algorithms import GroundStateEigensolver\n",
    "from qiskit_nature.units import DistanceUnit\n",
    "from qiskit_nature.second_q.mappers import JordanWignerMapper\n",
    "from qiskit_aer import  AerSimulator\n",
    "# from qiskit_nature.second_q.algorithms import VQEUCCFactory\n",
    "from qiskit_algorithms.optimizers import SLSQP\n",
    "from qiskit_aer.primitives import Estimator\n",
    "from qiskit_nature.units import DistanceUnit\n",
    "from qiskit_nature.second_q.drivers import PySCFDriver\n",
    "from qiskit_nature.second_q.problems import ElectronicBasis\n",
    "from qiskit_nature.second_q.transformers import ActiveSpaceTransformer\n",
    "from qiskit_nature.second_q.mappers import ParityMapper\n",
    "from scipy.linalg import eigh\n",
    "from qiskit_nature.second_q.circuit.library import HartreeFock\n",
    "from scipy.linalg import expm\n",
    "from qiskit.quantum_info import Statevector\n",
    "from numpy import pi\n",
    "import pylatexenc\n",
    "import numpy as np\n",
    "import matplotlib.pyplot as plt\n"
   ]
  },
  {
   "cell_type": "code",
   "execution_count": 19,
   "metadata": {},
   "outputs": [
    {
     "name": "stdout",
     "output_type": "stream",
     "text": [
      "1.4.0\n",
      "0.17.0\n",
      "0.3.1\n",
      "0.7.2\n",
      "0.4.0\n"
     ]
    }
   ],
   "source": [
    "print(qiskit.__version__)\n",
    "print(qiskit_aer.__version__)\n",
    "print(qiskit_algorithms.__version__)\n",
    "print(qiskit_nature.__version__)\n",
    "print(qiskit_nature_pyscf.__version__)"
   ]
  },
  {
   "cell_type": "markdown",
   "metadata": {
    "id": "9ht9aIIQw6fT"
   },
   "source": [
    "# Analysis of LiH in 12 spin orbitals:"
   ]
  },
  {
   "cell_type": "code",
   "execution_count": 20,
   "metadata": {
    "executionInfo": {
     "elapsed": 993,
     "status": "ok",
     "timestamp": 1745039584483,
     "user": {
      "displayName": "pradyot pritam",
      "userId": "12506627774133734291"
     },
     "user_tz": -330
    },
    "id": "O9osQyH_mYgX"
   },
   "outputs": [],
   "source": [
    "# Define the Li molecule\n",
    "molecule = MoleculeInfo(\n",
    "    symbols=[\"Li\", \"H\"],\n",
    "    coords=([0.0, 0.0, 0.0], [0.0, 0.0, 1.59]),  # Approximate bond distance for He2\n",
    "    multiplicity=1,  # Singlet state\n",
    "    charge=0\n",
    ")\n",
    "\n",
    "# Set up the PySCF driver\n",
    "mdriver = PySCFDriver.from_molecule(\n",
    "    molecule=molecule,\n",
    "    basis=\"sto3g\"\n",
    ")\n",
    "\n",
    "\n",
    "# You can now use the driver to run a calculation\n",
    "electronic_structure_problem = mdriver.run()"
   ]
  },
  {
   "cell_type": "code",
   "execution_count": 21,
   "metadata": {
    "colab": {
     "base_uri": "https://localhost:8080/"
    },
    "executionInfo": {
     "elapsed": 9,
     "status": "ok",
     "timestamp": 1737299889881,
     "user": {
      "displayName": "pradyot pritam",
      "userId": "12506627774133734291"
     },
     "user_tz": -330
    },
    "id": "FwFma9X-nCAo",
    "outputId": "eb47cbdd-d89f-41e5-8bc1-7d09d37889b8"
   },
   "outputs": [
    {
     "name": "stdout",
     "output_type": "stream",
     "text": [
      "Spatial orbitals: 6\n",
      "Number of up spin:  2\n",
      "Number of down spin:  2\n",
      "\n",
      "\n",
      "Down spin configuration :  [1. 1. 0. 0. 0. 0.]\n",
      "Down spin configuration :  [1. 1. 0. 0. 0. 0.]\n",
      "Number of particles:  (2, 2)\n"
     ]
    }
   ],
   "source": [
    "print(\"Spatial orbitals:\", electronic_structure_problem.num_spatial_orbitals)\n",
    "print(\"Number of up spin: \", electronic_structure_problem.num_alpha)\n",
    "print(\"Number of down spin: \", electronic_structure_problem.num_beta)\n",
    "print(\"\\n\")\n",
    "print(\"Down spin configuration : \", electronic_structure_problem.orbital_occupations_b)\n",
    "print(\"Down spin configuration : \",electronic_structure_problem.orbital_occupations)\n",
    "print(\"Number of particles: \", electronic_structure_problem.num_particles)\n",
    "# print(electronic_structure_problem.second_q_ops()[0])"
   ]
  },
  {
   "cell_type": "code",
   "execution_count": 22,
   "metadata": {
    "colab": {
     "base_uri": "https://localhost:8080/"
    },
    "executionInfo": {
     "elapsed": 8126,
     "status": "ok",
     "timestamp": 1737299898001,
     "user": {
      "displayName": "pradyot pritam",
      "userId": "12506627774133734291"
     },
     "user_tz": -330
    },
    "id": "syYuE37AHB3t",
    "outputId": "f625e044-361e-4a41-e9fc-4d25ef156c3e"
   },
   "outputs": [
    {
     "name": "stdout",
     "output_type": "stream",
     "text": [
      "=== GROUND STATE ENERGY ===\n",
      " \n",
      "* Electronic ground state energy (Hartree): -8.880919855331\n",
      "  - computed part:      -8.880919855331\n",
      "~ Nuclear repulsion energy (Hartree): 0.998447567774\n",
      "> Total ground state energy (Hartree): -7.882472287557\n",
      " \n",
      "=== MEASURED OBSERVABLES ===\n",
      " \n",
      "  0:  # Particles: 4.000 S: 0.000 S^2: 0.000 M: 0.000\n",
      " \n",
      "=== DIPOLE MOMENTS ===\n",
      " \n",
      "~ Nuclear dipole moment (a.u.): [0.0  0.0  3.00466454]\n",
      " \n",
      "  0: \n",
      "  * Electronic dipole moment (a.u.): [0.0  0.0  4.82267435296]\n",
      "    - computed part:      [0.0  0.0  4.82267435296]\n",
      "  > Dipole moment (a.u.): [0.0  0.0  -1.81800981296]  Total: 1.81800981296\n",
      "                 (debye): [0.0  0.0  -4.620919590112]  Total: 4.620919590112\n",
      " \n",
      "HF energy :  -7.862174819763764\n"
     ]
    }
   ],
   "source": [
    "from qiskit_algorithms import NumPyMinimumEigensolver\n",
    "from qiskit_nature.second_q.algorithms import GroundStateEigensolver\n",
    "from qiskit_nature.second_q.mappers import JordanWignerMapper\n",
    "\n",
    "solver = GroundStateEigensolver(\n",
    "    JordanWignerMapper(),\n",
    "    NumPyMinimumEigensolver(),\n",
    ")\n",
    "\n",
    "result = solver.solve(electronic_structure_problem)\n",
    "print(result)\n",
    "print(\"HF energy : \", electronic_structure_problem.reference_energy)"
   ]
  },
  {
   "cell_type": "code",
   "execution_count": 23,
   "metadata": {
    "id": "JZdyF3s6oxkV"
   },
   "outputs": [],
   "source": [
    "mapper = JordanWignerMapper()\n",
    "qubit_hamiltonian = mapper.map(electronic_structure_problem.second_q_ops()[0])\n",
    "state = HartreeFock(electronic_structure_problem.num_spatial_orbitals, electronic_structure_problem.num_particles, mapper)"
   ]
  },
  {
   "cell_type": "code",
   "execution_count": null,
   "metadata": {},
   "outputs": [],
   "source": [
    "# state.draw(output=\"mpl\", filename=\"HF.png\")\n",
    "#-7.876631325621035)"
   ]
  },
  {
   "cell_type": "markdown",
   "metadata": {
    "id": "VVAfKnQ2Uvit"
   },
   "source": [
    "## QASM Simulator"
   ]
  },
  {
   "cell_type": "code",
   "execution_count": 25,
   "metadata": {
    "id": "MK0dp8qw7EiD"
   },
   "outputs": [],
   "source": [
    "# from qiskit.primitives import StatevectorSampler\n",
    "# from qiskit import QuantumCircuit\n",
    "# from qiskit.circuit.library import PauliEvolutionGate\n",
    "# from qiskit_aer import Aer\n",
    "# from qiskit import transpile\n",
    "\n",
    "# evolution_times = np.linspace(0.0, 10, 10)  # List of time evolution values\n",
    "# evolution_times = 1.0 * 3.1415* evolution_times # Time parameter for the unitary evolution\n",
    "# shots = 1000000\n",
    "\n",
    "\n",
    "# mapper = JordanWignerMapper()\n",
    "# hf_state = HartreeFock(\n",
    "#     electronic_structure_problem.num_spatial_orbitals,\n",
    "#     electronic_structure_problem.num_particles,\n",
    "#     mapper\n",
    "# )\n",
    "\n",
    "# # Step 3: Backend setup\n",
    "# backend = Aer.get_backend(\"qasm_simulator\")\n",
    "\n",
    "# # # Initialize Sampler\n",
    "# # sampler = StatevectorSampler()\n",
    "# shots = 1000000\n",
    "\n",
    "# # Step 4: Loop over different time evolutions\n",
    "# state_probabilities = {}\n",
    "\n",
    "# for t in evolution_times:\n",
    "#     # Prepare circuit\n",
    "#     qc = QuantumCircuit(hf_state.num_qubits)\n",
    "#     qc.compose(hf_state, inplace=True)  # HF reference state\n",
    "#     evolution_op = PauliEvolutionGate(qubit_hamiltonian, time=t)\n",
    "#     qc.append(evolution_op, range(hf_state.num_qubits))  # Time evolution\n",
    "#     qc.measure_all()\n",
    "\n",
    "#     # Transpile and simulate\n",
    "#     tqc = transpile(qc, backend)\n",
    "#     result = backend.run(tqc, shots=shots).result()\n",
    "#     counts = result.get_counts()\n",
    "#     # job = sampler.run([qc], shots=shots)\n",
    "#     # result = job.result()[0]\n",
    "#     # counts = result.data['meas'].get_counts()\n",
    "\n",
    "#     # Normalize counts to probabilities\n",
    "#     # total_shots = sum(counts.values())\n",
    "#     probabilities = {state: count / shots for state, count in counts.items()}\n",
    "#     print(f\"time {t} : \",probabilities)\n",
    "#     # Store probabilities for this time\n",
    "#     state_probabilities[t] = probabilities\n"
   ]
  },
  {
   "cell_type": "markdown",
   "metadata": {
    "id": "qvTXdG0gVJh8"
   },
   "source": [
    "## StateVector Sampler"
   ]
  },
  {
   "cell_type": "code",
   "execution_count": 26,
   "metadata": {
    "colab": {
     "base_uri": "https://localhost:8080/"
    },
    "executionInfo": {
     "elapsed": 14914,
     "status": "ok",
     "timestamp": 1737300140010,
     "user": {
      "displayName": "pradyot pritam",
      "userId": "12506627774133734291"
     },
     "user_tz": -330
    },
    "id": "iRrfD9qtU58P",
    "outputId": "6f8992c9-b325-4b74-9b62-d284c3817960"
   },
   "outputs": [
    {
     "name": "stdout",
     "output_type": "stream",
     "text": [
      "time 0.0 :  {'000011000011': 1.0}\n",
      "time 0.17452777777777778 :  {'000011000011': 0.99927, '100001100001': 0.00057, '100001000101': 5e-05, '000101100001': 5e-05, '001001001001': 1e-05, '010001010010': 1e-05, '010001010001': 1e-05, '000110000110': 2e-05, '001010001010': 1e-05}\n",
      "time 0.34905555555555556 :  {'000011000011': 0.99734, '100001100001': 0.00186, '000101100001': 0.00019, '010001010001': 0.00011, '100001000101': 0.00017, '000101000101': 1e-05, '001001001001': 9e-05, '100001000011': 4e-05, '000110000110': 5e-05, '100010100010': 2e-05, '000101000011': 2e-05, '000110000011': 4e-05, '010010010001': 2e-05, '001001001010': 1e-05, '001010001010': 2e-05, '000011000101': 1e-05}\n",
      "time 0.5235833333333333 :  {'000011000011': 0.99411, '100001100001': 0.00418, '000110000110': 0.00013, '100001000101': 0.00027, '000101100001': 0.00028, '010010010010': 1e-05, '010001010001': 0.00028, '000011100001': 3e-05, '010001010010': 2e-05, '001001001001': 0.00015, '000011000101': 5e-05, '000110000011': 6e-05, '100001000011': 0.00021, '000011000110': 8e-05, '000101000011': 3e-05, '100010000011': 3e-05, '010010010001': 4e-05, '001010001001': 1e-05, '001001001010': 1e-05, '000101000101': 2e-05}\n",
      "time 0.6981111111111111 :  {'000011000011': 0.98909, '100001100001': 0.00724, '100001000101': 0.00068, '010001010001': 0.00036, '000011000110': 0.00016, '010010010010': 3e-05, '000101100001': 0.00061, '001001001001': 0.00029, '001001001010': 3e-05, '000110000011': 0.00028, '100001000011': 0.00051, '000101000101': 5e-05, '000011000101': 7e-05, '000110000110': 0.00015, '001010001010': 6e-05, '100010000011': 3e-05, '010010010001': 3e-05, '000011100001': 0.00012, '010001010010': 4e-05, '000101000011': 9e-05, '100010100010': 4e-05, '100100000011': 1e-05, '001010001001': 2e-05, '000011100100': 1e-05}\n",
      "time 0.872638888888889 :  {'000011000011': 0.98239, '000101100001': 0.00097, '100001000011': 0.00119, '010001010001': 0.00044, '001001001001': 0.0004, '100001100001': 0.01104, '000011000110': 0.00036, '000101000101': 0.00011, '000110000011': 0.00088, '100001000101': 0.00083, '001010001001': 5e-05, '100010000011': 0.00015, '000101000011': 0.00018, '000011100001': 0.00024, '000011000101': 0.00013, '010010010001': 2e-05, '000110000110': 0.00036, '100010100010': 0.0001, '001001001010': 5e-05, '010010010010': 4e-05, '001010001010': 3e-05, '010001010010': 3e-05, '000110100010': 1e-05}\n",
      "time 1.0471666666666666 :  {'000011000011': 0.97352, '100001100001': 0.01603, '000101100001': 0.00124, '100001000101': 0.00132, '100001000011': 0.00192, '000110000011': 0.00145, '000011100001': 0.00039, '000101000011': 0.00044, '001001001001': 0.00055, '000011000110': 0.00079, '010010010001': 5e-05, '010001010001': 0.00069, '100010000011': 0.00019, '100010100010': 0.0001, '000011100100': 1e-05, '000110000110': 0.00031, '100100000011': 1e-05, '001010001010': 0.00013, '100001100100': 4e-05, '100100100001': 6e-05, '000011000101': 0.00029, '001010001001': 8e-05, '000101000101': 0.00014, '001001001010': 4e-05, '011000011000': 1e-05, '000110100010': 2e-05, '010010010010': 7e-05, '101000101000': 1e-05, '100010100001': 1e-05, '110000010100': 1e-05, '100100000101': 1e-05, '010001010010': 4e-05, '100010000101': 1e-05, '001010001100': 1e-05, '010010010100': 1e-05}\n",
      "time 1.2216944444444444 :  {'000011000011': 0.96046, '100001000101': 0.00193, '000101100001': 0.00163, '100001100001': 0.0217, '001001001001': 0.0008, '000011100001': 0.00057, '100001000011': 0.00407, '000011000110': 0.00144, '000101000101': 0.00022, '000110000011': 0.00289, '000110000110': 0.00052, '010001010010': 0.00011, '000011000101': 0.00045, '010010010001': 0.00014, '000101000011': 0.00078, '000011100010': 3e-05, '100100100001': 9e-05, '010010010010': 0.00016, '010001010001': 0.00091, '100100000011': 2e-05, '100010000011': 0.00045, '110000010001': 2e-05, '100001000110': 1e-05, '001010001010': 0.00017, '100010100010': 0.00011, '000110100001': 1e-05, '100001100100': 4e-05, '110000110000': 1e-05, '010100010010': 1e-05, '000110100010': 6e-05, '001001101000': 1e-05, '001001001010': 5e-05, '100100100100': 2e-05, '100010000101': 2e-05, '000011100100': 1e-05, '100001100010': 2e-05, '001010001001': 5e-05, '001100001001': 1e-05}\n",
      "time 1.3962222222222223 :  {'000011000011': 0.94594, '000011000110': 0.00245, '100001000011': 0.00641, '100001100001': 0.02735, '000011100001': 0.00077, '100001000101': 0.00197, '000101100001': 0.00223, '000101000011': 0.00147, '010001010001': 0.00125, '000110000011': 0.00512, '001001001001': 0.00123, '000110000110': 0.00063, '010010010010': 0.00029, '100010000011': 0.00053, '000101000101': 0.0003, '000011000101': 0.00064, '000110100001': 3e-05, '100010100010': 0.00025, '010010010001': 0.00014, '001010001001': 0.00015, '001001001010': 4e-05, '000110100010': 6e-05, '100100100001': 0.00011, '001010001010': 0.00021, '000011100010': 8e-05, '001001001100': 1e-05, '100100000011': 7e-05, '010001010010': 9e-05, '000101000110': 1e-05, '110000110000': 1e-05, '100100000110': 1e-05, '100001100100': 2e-05, '001010101000': 1e-05, '100010100001': 3e-05, '101000101000': 2e-05, '100100000101': 1e-05, '100010000101': 1e-05, '101000001001': 1e-05, '001100001100': 1e-05, '001100001001': 1e-05, '000011100100': 1e-05, '010100010100': 1e-05}\n",
      "time 1.57075 :  {'000011000011': 0.92677, '100001000011': 0.01024, '100001100001': 0.03391, '100001000101': 0.00293, '000101100001': 0.00257, '000011000101': 0.00119, '000011000110': 0.00382, '000101000011': 0.00207, '000110000011': 0.00795, '000101000101': 0.00024, '010001010001': 0.00167, '000011100001': 0.00117, '000011100010': 0.00011, '100010000011': 0.0008, '100010100010': 0.00024, '001001001001': 0.00147, '000110000110': 0.00091, '100100100100': 5e-05, '010010010010': 0.00033, '100001100100': 0.00012, '001001001010': 4e-05, '001010001001': 0.00022, '110000110000': 1e-05, '100100100001': 0.00019, '001100001001': 1e-05, '010100010001': 3e-05, '001010001010': 0.00023, '000110100010': 4e-05, '100010100001': 9e-05, '010010010001': 0.00024, '100001100010': 5e-05, '100100000101': 3e-05, '010001010010': 5e-05, '000101000110': 2e-05, '100100000011': 6e-05, '101000101000': 2e-05, '010010010100': 1e-05, '010001110000': 1e-05, '101000001010': 1e-05, '000110100100': 1e-05, '010001010100': 1e-05, '110000010001': 2e-05, '000101100010': 1e-05, '000110100001': 1e-05, '001100001010': 1e-05, '001001001100': 1e-05}\n"
     ]
    }
   ],
   "source": [
    "from qiskit.primitives import StatevectorSampler\n",
    "from qiskit import QuantumCircuit\n",
    "from qiskit.circuit.library import PauliEvolutionGate\n",
    "from qiskit_aer import Aer\n",
    "from qiskit import transpile\n",
    "\n",
    "evolution_times = np.linspace(0, 0.5, 10)  # List of time evolution values\n",
    "evolution_times = 1.0 * 3.1415* evolution_times # Time parameter for the unitary evolution\n",
    "\n",
    "\n",
    "\n",
    "mapper = JordanWignerMapper()\n",
    "hf_state = HartreeFock(\n",
    "    electronic_structure_problem.num_spatial_orbitals,\n",
    "    electronic_structure_problem.num_particles,\n",
    "    mapper\n",
    ")\n",
    "\n",
    "# # Step 3: Backend setup\n",
    "# backend = Aer.get_backend(\"qasm_simulator\")\n",
    "\n",
    "# # Initialize Sampler\n",
    "sampler = StatevectorSampler()\n",
    "shots = 100000\n",
    "\n",
    "# Step 4: Loop over different time evolutions\n",
    "state_probabilities = {}\n",
    "\n",
    "for t in evolution_times:\n",
    "    # Prepare circuit\n",
    "    qc = QuantumCircuit(hf_state.num_qubits)\n",
    "    qc.compose(hf_state, inplace=True)  # HF reference state\n",
    "    evolution_op = PauliEvolutionGate(qubit_hamiltonian, time=t)\n",
    "    qc.append(evolution_op, range(hf_state.num_qubits))  # Time evolution\n",
    "    qc.measure_all()\n",
    "\n",
    "    # Transpile and simulate\n",
    "    # tqc = transpile(qc, backend)\n",
    "    # result = backend.run(tqc, shots=shots).result()\n",
    "    # counts = result.get_counts()\n",
    "    job = sampler.run([qc], shots=shots)\n",
    "    result = job.result()[0]\n",
    "    counts = result.data['meas'].get_counts()\n",
    "\n",
    "    # Normalize counts to probabilities\n",
    "    # total_shots = sum(counts.values())\n",
    "    probabilities = {state: count / shots for state, count in counts.items()}\n",
    "    print(f\"time {t} : \",probabilities)\n",
    "    # Store probabilities for this time\n",
    "    state_probabilities[t] = probabilities\n"
   ]
  },
  {
   "cell_type": "code",
   "execution_count": 27,
   "metadata": {},
   "outputs": [],
   "source": [
    "# write python code to write state_probabilities to a text file\n",
    "with open(\"state_probabilities.txt\", \"w\") as f:\n",
    "    for t, probs in state_probabilities.items():\n",
    "        f.write(f\"Time: {t}\\n\")\n",
    "        for state, prob in probs.items():\n",
    "            f.write(f\"{state}: {prob}\\n\")\n",
    "        f.write(\"\\n\")"
   ]
  },
  {
   "cell_type": "code",
   "execution_count": 28,
   "metadata": {},
   "outputs": [
    {
     "name": "stdout",
     "output_type": "stream",
     "text": [
      "AO Overlap Matrix:\n",
      "[[1.         0.24113665 0.         0.         0.         0.06795133]\n",
      " [0.24113665 1.         0.         0.         0.         0.39776959]\n",
      " [0.         0.         1.         0.         0.         0.        ]\n",
      " [0.         0.         0.         1.         0.         0.        ]\n",
      " [0.         0.         0.         0.         1.         0.51477359]\n",
      " [0.06795133 0.39776959 0.         0.         0.51477359 1.        ]]\n",
      "converged SCF energy = -7.86217481976376\n",
      "MO Overlap Matrix:\n",
      "[[ 1.00000000e+00 -7.69025335e-18 -3.03298238e-18  6.83794746e-19\n",
      "   3.07273557e-19 -3.05096015e-18]\n",
      " [-9.22189899e-18  1.00000000e+00  5.42855131e-17  7.02871960e-17\n",
      "   3.43637763e-18 -1.54449140e-17]\n",
      " [ 1.11757428e-17  1.45023348e-16  1.00000000e+00  2.91350037e-19\n",
      "  -1.96784342e-17 -1.54712210e-16]\n",
      " [ 6.83794746e-19  7.02871960e-17  2.91350037e-19  1.00000000e+00\n",
      "   8.27795499e-17  1.65749540e-16]\n",
      " [ 3.07273557e-19  3.43637763e-18 -1.96784342e-17  1.87444800e-16\n",
      "   1.00000000e+00 -5.74876794e-17]\n",
      " [-1.49021455e-17 -2.48872207e-16 -2.28280762e-16  1.65749540e-16\n",
      "  -5.74876794e-17  1.00000000e+00]]\n"
     ]
    }
   ],
   "source": [
    "from pyscf import gto, scf\n",
    "from qiskit_nature.second_q.properties.s_operators import s_minus_operator, s_plus_operator, s_x_operator, s_y_operator, s_z_operator\n",
    "# Define a molecule (e.g., LiH)\n",
    "mol = gto.Mole()\n",
    "mol.atom = \"\"\"\n",
    "Li 0.0 0.0 0.0\n",
    "H  0.0 0.0 1.59\n",
    "\"\"\"\n",
    "mol.basis = \"sto3g\"\n",
    "mol.build()\n",
    "\n",
    "# Compute the overlap matrix in the atomic orbital (AO) basis\n",
    "ao_overlap_matrix = mol.intor(\"int1e_ovlp\")\n",
    "print(\"AO Overlap Matrix:\")\n",
    "print(ao_overlap_matrix)\n",
    "# Perform a Hartree-Fock calculation to get MO coefficients\n",
    "\n",
    "hf = scf.RHF(mol)\n",
    "hf.kernel()\n",
    "mo_coeff = hf.mo_coeff\n",
    "\n",
    "# Transform AO overlap matrix to MO basis\n",
    "mo_overlap_matrix = mo_coeff.T @ ao_overlap_matrix @ mo_coeff\n",
    "\n",
    "print(\"MO Overlap Matrix:\")\n",
    "print(mo_overlap_matrix)"
   ]
  },
  {
   "cell_type": "code",
   "execution_count": 29,
   "metadata": {},
   "outputs": [],
   "source": [
    "# overlap = ao_overlap_matrix\n",
    "overlap = None\n",
    "overlap = mo_overlap_matrix\n",
    "num_spatial_orbitals=electronic_structure_problem.num_spatial_orbitals"
   ]
  },
  {
   "cell_type": "code",
   "execution_count": 30,
   "metadata": {},
   "outputs": [],
   "source": [
    "s_x = s_x_operator(num_spatial_orbitals, overlap=overlap)\n",
    "s_y = s_y_operator(num_spatial_orbitals, overlap=overlap)\n",
    "s_z = s_z_operator(num_spatial_orbitals)\n",
    "s_squared = (s_x @ s_x) + (s_y @ s_y) + (s_z @ s_z)"
   ]
  },
  {
   "cell_type": "code",
   "execution_count": 31,
   "metadata": {},
   "outputs": [],
   "source": [
    "s_squared = mapper.map(s_squared)"
   ]
  },
  {
   "cell_type": "code",
   "execution_count": 32,
   "metadata": {
    "id": "W5Oqn5kSqfLO"
   },
   "outputs": [],
   "source": [
    "# Define the Li molecule\n",
    "molecule = MoleculeInfo(\n",
    "    symbols=[\"Li\", \"H\"],\n",
    "    coords=([0.0, 0.0, 0.0], [0.0, 0.0, 1.59]),  # Approximate bond distance for He2\n",
    "    multiplicity=1,  # Singlet state\n",
    "    charge=0\n",
    ")\n",
    "\n",
    "# Set up the PySCF driver\n",
    "mdriver = PySCFDriver.from_molecule(\n",
    "    molecule=molecule,\n",
    "    basis=\"sto3g\"\n",
    ")\n",
    "\n",
    "\n",
    "# You can now use the driver to run a calculation\n",
    "electronic_structure_problem = mdriver.run()\n",
    "# print(electronic_structure_problem.second_q_ops()[0])"
   ]
  },
  {
   "cell_type": "code",
   "execution_count": 33,
   "metadata": {
    "colab": {
     "base_uri": "https://localhost:8080/"
    },
    "executionInfo": {
     "elapsed": 36,
     "status": "ok",
     "timestamp": 1737300142291,
     "user": {
      "displayName": "pradyot pritam",
      "userId": "12506627774133734291"
     },
     "user_tz": -330
    },
    "id": "lPM0zknGzguG",
    "outputId": "f36decad-5122-4082-acd2-fa9ffc782524"
   },
   "outputs": [
    {
     "data": {
      "text/plain": [
       "FermionicOp({'+_6 -_0': (1.0000000000000004+0j), '+_7 -_1': (1.0000000000000002+0j), '+_8 -_2': (1.0000000000000004+0j), '+_9 -_3': (1.0000000000000004+0j), '+_10 -_4': (1+0j), '+_11 -_5': (1.000000000000001+0j)}, num_spin_orbitals=12, )"
      ]
     },
     "execution_count": 33,
     "metadata": {},
     "output_type": "execute_result"
    }
   ],
   "source": [
    "s_minus_operator(num_spatial_orbitals, overlap=overlap)"
   ]
  },
  {
   "cell_type": "code",
   "execution_count": 34,
   "metadata": {
    "colab": {
     "base_uri": "https://localhost:8080/"
    },
    "executionInfo": {
     "elapsed": 31,
     "status": "ok",
     "timestamp": 1737300142291,
     "user": {
      "displayName": "pradyot pritam",
      "userId": "12506627774133734291"
     },
     "user_tz": -330
    },
    "id": "-cNzRka_04bX",
    "outputId": "fafd506e-6bd5-48aa-de5a-c916857b76af"
   },
   "outputs": [
    {
     "data": {
      "text/plain": [
       "FermionicOp({'+_0 -_6': (1.0000000000000004+0j), '+_1 -_7': (1.0000000000000002+0j), '+_2 -_8': (1.0000000000000004+0j), '+_3 -_9': (1.0000000000000004+0j), '+_4 -_10': (1+0j), '+_5 -_11': (1.000000000000001+0j)}, num_spin_orbitals=12, )"
      ]
     },
     "execution_count": 34,
     "metadata": {},
     "output_type": "execute_result"
    }
   ],
   "source": [
    "s_plus_operator(num_spatial_orbitals, overlap=overlap)"
   ]
  },
  {
   "cell_type": "code",
   "execution_count": 35,
   "metadata": {
    "colab": {
     "base_uri": "https://localhost:8080/"
    },
    "executionInfo": {
     "elapsed": 27,
     "status": "ok",
     "timestamp": 1737300142291,
     "user": {
      "displayName": "pradyot pritam",
      "userId": "12506627774133734291"
     },
     "user_tz": -330
    },
    "id": "efvFQRP-7WZb",
    "outputId": "4816ca93-0d6d-4ab3-c894-d44daa12271e"
   },
   "outputs": [
    {
     "data": {
      "text/plain": [
       "SparsePauliOp(['XZZZZYXZZZZY', 'YZZZZYYZZZZY', 'XZZZZXYZZZZY', 'YZZZZXXZZZZY', 'XZZZZYYZZZZX', 'YZZZZYXZZZZX', 'XZZZZXXZZZZX', 'YZZZZXYZZZZX', 'IIIIIIIIIIII', 'IIIIIZIIIIIZ', 'IIXZZYIIXZZY', 'IIYZZYIIYZZY', 'IIXZZXIIYZZY', 'IIYZZXIIXZZY', 'IIXZZYIIYZZX', 'IIYZZYIIXZZX', 'IIXZZXIIXZZX', 'IIYZZXIIYZZX', 'IIIIXYIIIIXY', 'IIIIYYIIIIYY', 'IIIIXXIIIIYY', 'IIIIYXIIIIXY', 'IIIIXYIIIIYX', 'IIIIYYIIIIXX', 'IIIIXXIIIIXX', 'IIIIYXIIIIYX', 'IXZZZYIXZZZY', 'IYZZZYIYZZZY', 'IXZZZXIYZZZY', 'IYZZZXIXZZZY', 'IXZZZYIYZZZX', 'IYZZZYIXZZZX', 'IXZZZXIXZZZX', 'IYZZZXIYZZZX', 'IIIXZYIIIXZY', 'IIIYZYIIIYZY', 'IIIXZXIIIYZY', 'IIIYZXIIIXZY', 'IIIXZYIIIYZX', 'IIIYZYIIIXZX', 'IIIXZXIIIXZX', 'IIIYZXIIIYZX', 'XZZZYIXZZZYI', 'YZZZYIYZZZYI', 'XZZZXIYZZZYI', 'YZZZXIXZZZYI', 'XZZZYIYZZZXI', 'YZZZYIXZZZXI', 'XZZZXIXZZZXI', 'YZZZXIYZZZXI', 'IIXZYIIIXZYI', 'IIYZYIIIYZYI', 'IIXZXIIIYZYI', 'IIYZXIIIXZYI', 'IIXZYIIIYZXI', 'IIYZYIIIXZXI', 'IIXZXIIIXZXI', 'IIYZXIIIYZXI', 'IIIIZIIIIIZI', 'IXZZYIIXZZYI', 'IYZZYIIYZZYI', 'IXZZXIIYZZYI', 'IYZZXIIXZZYI', 'IXZZYIIYZZXI', 'IYZZYIIXZZXI', 'IXZZXIIXZZXI', 'IYZZXIIYZZXI', 'IIIXYIIIIXYI', 'IIIYYIIIIYYI', 'IIIXXIIIIYYI', 'IIIYXIIIIXYI', 'IIIXYIIIIYXI', 'IIIYYIIIIXXI', 'IIIXXIIIIXXI', 'IIIYXIIIIYXI', 'XZZYIIXZZYII', 'YZZYIIYZZYII', 'XZZXIIYZZYII', 'YZZXIIXZZYII', 'XZZYIIYZZXII', 'YZZYIIXZZXII', 'XZZXIIXZZXII', 'YZZXIIYZZXII', 'IIXYIIIIXYII', 'IIYYIIIIYYII', 'IIXXIIIIYYII', 'IIYXIIIIXYII', 'IIXYIIIIYXII', 'IIYYIIIIXXII', 'IIXXIIIIXXII', 'IIYXIIIIYXII', 'IXZYIIIXZYII', 'IYZYIIIYZYII', 'IXZXIIIYZYII', 'IYZXIIIXZYII', 'IXZYIIIYZXII', 'IYZYIIIXZXII', 'IXZXIIIXZXII', 'IYZXIIIYZXII', 'IIIZIIIIIZII', 'XZYIIIXZYIII', 'YZYIIIYZYIII', 'XZXIIIYZYIII', 'YZXIIIXZYIII', 'XZYIIIYZXIII', 'YZYIIIXZXIII', 'XZXIIIXZXIII', 'YZXIIIYZXIII', 'IIZIIIIIZIII', 'IXYIIIIXYIII', 'IYYIIIIYYIII', 'IXXIIIIYYIII', 'IYXIIIIXYIII', 'IXYIIIIYXIII', 'IYYIIIIXXIII', 'IXXIIIIXXIII', 'IYXIIIIYXIII', 'XYIIIIXYIIII', 'YYIIIIYYIIII', 'XXIIIIYYIIII', 'YXIIIIXYIIII', 'XYIIIIYXIIII', 'YYIIIIXXIIII', 'XXIIIIXXIIII', 'YXIIIIYXIIII', 'IZIIIIIZIIII', 'ZIIIIIZIIIII', 'IIIIIIIZIIIZ', 'IIIIIIIZIZII', 'IIZIZIIIIIII', 'IZZIIIIIIIII', 'IZIIIIIIZIII', 'IZIZIIIIIIII', 'ZIIIIIIIZIII', 'IIZIIIIZIIII', 'ZIIIIIIIIIZI', 'IIIIIZIZIIII', 'IZIIZIIIIIII', 'IIIIIIZIIZII', 'IIIZIIIZIIII', 'IIIZIIIIIIIZ', 'IIIIIIZIZIII', 'IIZIIIZIIIII', 'IIIIIIZIIIZI', 'IIZIIIIIIZII', 'IIIIZIZIIIII', 'ZIIZIIIIIIII', 'IIIIIIIIIIZZ', 'IIIIIIIIZIIZ', 'IIIIIIZZIIII', 'IZIIIZIIIIII', 'IIIIIIZIIIIZ', 'IIIIZIIIZIII', 'IIIZIZIIIIII', 'ZIZIIIIIIIII', 'IZIIIIIIIZII', 'IIIZIIIIZIII', 'IIIIZIIIIZII', 'ZZIIIIIIIIII', 'IZIIIIIIIIIZ', 'IIIIIIIIZIZI', 'IIIIIIIIIZZI', 'IIIZIIIIIIZI', 'IIIIIZZIIIII', 'IIIIIIIIIZIZ', 'IIIIIIIZIIZI', 'IZIIIIZIIIII', 'ZIIIIIIIIZII', 'IIIIZZIIIIII', 'IIZIIIIIIIIZ', 'ZIIIIIIZIIII', 'IIIIZIIIIIIZ', 'IIZIIZIIIIII', 'IIIIIZIIZIII', 'IIIIIIIIZZII', 'IIIIIIIZZIII', 'ZIIIIIIIIIIZ', 'IIIZIIZIIIII', 'IIIIIZIIIIZI', 'IIIIIZIIIZII', 'IIIIZIIZIIII', 'ZIIIIZIIIIII', 'IZIIIIIIIIZI', 'IIZIIIIIIIZI', 'IIZZIIIIIIII', 'IIIZZIIIIIII', 'ZIIIZIIIIIII'],\n",
       "              coeffs=[-0.125+0.j, -0.125+0.j, -0.125+0.j,  0.125+0.j,  0.125+0.j, -0.125+0.j,\n",
       " -0.125+0.j, -0.125+0.j,  2.25 +0.j, -0.375+0.j, -0.125+0.j, -0.125+0.j,\n",
       " -0.125+0.j,  0.125+0.j,  0.125+0.j, -0.125+0.j, -0.125+0.j, -0.125+0.j,\n",
       " -0.125+0.j, -0.125+0.j, -0.125+0.j,  0.125+0.j,  0.125+0.j, -0.125+0.j,\n",
       " -0.125+0.j, -0.125+0.j, -0.125+0.j, -0.125+0.j, -0.125+0.j,  0.125+0.j,\n",
       "  0.125+0.j, -0.125+0.j, -0.125+0.j, -0.125+0.j, -0.125+0.j, -0.125+0.j,\n",
       " -0.125+0.j,  0.125+0.j,  0.125+0.j, -0.125+0.j, -0.125+0.j, -0.125+0.j,\n",
       " -0.125+0.j, -0.125+0.j, -0.125+0.j,  0.125+0.j,  0.125+0.j, -0.125+0.j,\n",
       " -0.125+0.j, -0.125+0.j, -0.125+0.j, -0.125+0.j, -0.125+0.j,  0.125+0.j,\n",
       "  0.125+0.j, -0.125+0.j, -0.125+0.j, -0.125+0.j, -0.375+0.j, -0.125+0.j,\n",
       " -0.125+0.j, -0.125+0.j,  0.125+0.j,  0.125+0.j, -0.125+0.j, -0.125+0.j,\n",
       " -0.125+0.j, -0.125+0.j, -0.125+0.j, -0.125+0.j,  0.125+0.j,  0.125+0.j,\n",
       " -0.125+0.j, -0.125+0.j, -0.125+0.j, -0.125+0.j, -0.125+0.j, -0.125+0.j,\n",
       "  0.125+0.j,  0.125+0.j, -0.125+0.j, -0.125+0.j, -0.125+0.j, -0.125+0.j,\n",
       " -0.125+0.j, -0.125+0.j,  0.125+0.j,  0.125+0.j, -0.125+0.j, -0.125+0.j,\n",
       " -0.125+0.j, -0.125+0.j, -0.125+0.j, -0.125+0.j,  0.125+0.j,  0.125+0.j,\n",
       " -0.125+0.j, -0.125+0.j, -0.125+0.j, -0.375+0.j, -0.125+0.j, -0.125+0.j,\n",
       " -0.125+0.j,  0.125+0.j,  0.125+0.j, -0.125+0.j, -0.125+0.j, -0.125+0.j,\n",
       " -0.375+0.j, -0.125+0.j, -0.125+0.j, -0.125+0.j,  0.125+0.j,  0.125+0.j,\n",
       " -0.125+0.j, -0.125+0.j, -0.125+0.j, -0.125+0.j, -0.125+0.j, -0.125+0.j,\n",
       "  0.125+0.j,  0.125+0.j, -0.125+0.j, -0.125+0.j, -0.125+0.j, -0.375+0.j,\n",
       " -0.375+0.j,  0.125+0.j,  0.125+0.j,  0.125+0.j,  0.125+0.j, -0.125+0.j,\n",
       "  0.125+0.j, -0.125+0.j, -0.125+0.j, -0.125+0.j, -0.125+0.j,  0.125+0.j,\n",
       "  0.125+0.j, -0.125+0.j, -0.125+0.j,  0.125+0.j, -0.125+0.j,  0.125+0.j,\n",
       " -0.125+0.j, -0.125+0.j,  0.125+0.j,  0.125+0.j,  0.125+0.j,  0.125+0.j,\n",
       "  0.125+0.j,  0.125+0.j, -0.125+0.j,  0.125+0.j,  0.125+0.j, -0.125+0.j,\n",
       " -0.125+0.j, -0.125+0.j,  0.125+0.j, -0.125+0.j,  0.125+0.j,  0.125+0.j,\n",
       " -0.125+0.j, -0.125+0.j,  0.125+0.j,  0.125+0.j, -0.125+0.j, -0.125+0.j,\n",
       "  0.125+0.j, -0.125+0.j, -0.125+0.j, -0.125+0.j,  0.125+0.j, -0.125+0.j,\n",
       "  0.125+0.j,  0.125+0.j, -0.125+0.j, -0.125+0.j, -0.125+0.j, -0.125+0.j,\n",
       " -0.125+0.j,  0.125+0.j, -0.125+0.j, -0.125+0.j,  0.125+0.j,  0.125+0.j,\n",
       "  0.125+0.j])"
      ]
     },
     "execution_count": 35,
     "metadata": {},
     "output_type": "execute_result"
    }
   ],
   "source": [
    "s_squared"
   ]
  },
  {
   "cell_type": "code",
   "execution_count": 36,
   "metadata": {
    "id": "inUPyjW7-_HQ"
   },
   "outputs": [],
   "source": [
    "state = Statevector.from_label(\"100001100001\")"
   ]
  },
  {
   "cell_type": "code",
   "execution_count": 37,
   "metadata": {
    "colab": {
     "base_uri": "https://localhost:8080/"
    },
    "executionInfo": {
     "elapsed": 26,
     "status": "ok",
     "timestamp": 1737300142295,
     "user": {
      "displayName": "pradyot pritam",
      "userId": "12506627774133734291"
     },
     "user_tz": -330
    },
    "id": "D0wXLVe3758u",
    "outputId": "f63299c2-6bef-49b6-e3f7-6856bc5e3464"
   },
   "outputs": [
    {
     "name": "stdout",
     "output_type": "stream",
     "text": [
      "(-4.440892098500626e-16+0j)\n"
     ]
    }
   ],
   "source": [
    "print(state.expectation_value(s_squared))"
   ]
  }
 ],
 "metadata": {
  "colab": {
   "authorship_tag": "ABX9TyMFxMb7NuzAY3PcFd3ghIJf",
   "provenance": [
    {
     "file_id": "1MKYAbRCoZQdNQ2nBNMs3m2Fusxti4WgQ",
     "timestamp": 1737018144187
    },
    {
     "file_id": "1BI1F8gDHfPzPUFrZVvZ9oodwIQhtlRpR",
     "timestamp": 1736945080024
    },
    {
     "file_id": "1QadqZPrmg8n_OENSqvG8qYFl_Hhcvai1",
     "timestamp": 1736486570237
    },
    {
     "file_id": "1R6yOomgyb2f6ccmCyg8BVYU1KegqwOkS",
     "timestamp": 1735361696086
    },
    {
     "file_id": "1hzLAHGg73yhF-CDhZwxgFVInlXMs_083",
     "timestamp": 1735229576700
    },
    {
     "file_id": "1ah2Phr8hbTlifODBog1Q8rdRHqKVNx2H",
     "timestamp": 1734979326896
    },
    {
     "file_id": "1vdAT_lT7ZweYFVZmCVAw0HnHXcjIzuzy",
     "timestamp": 1734450207864
    },
    {
     "file_id": "1vfy-JveU4p4s2is-NtDyQ3__hDXUr2np",
     "timestamp": 1734229137426
    },
    {
     "file_id": "1s-3jXupgvdV1PEFbyHx-39jY0tz9yuzi",
     "timestamp": 1734075244313
    },
    {
     "file_id": "1sA6GNGwStrHTKfdJY2F_FrWrWOSN5TkZ",
     "timestamp": 1733976240604
    },
    {
     "file_id": "1J4xuHOA4Ej_2GzKQJVJiC8XngdPecEaA",
     "timestamp": 1733903105665
    },
    {
     "file_id": "1vUtireLNhojTSAEH_NzsW4B0noga2LHz",
     "timestamp": 1733856043646
    },
    {
     "file_id": "1EORM0DSnR5h5yLfJ20N4a-1J4MVc5Mn1",
     "timestamp": 1732693485014
    },
    {
     "file_id": "1ZI-WufYrn3C_TMUIhihiNLQhOnDl0h_7",
     "timestamp": 1729504334445
    }
   ]
  },
  "kernelspec": {
   "display_name": "myvenv",
   "language": "python",
   "name": "python3"
  },
  "language_info": {
   "codemirror_mode": {
    "name": "ipython",
    "version": 3
   },
   "file_extension": ".py",
   "mimetype": "text/x-python",
   "name": "python",
   "nbconvert_exporter": "python",
   "pygments_lexer": "ipython3",
   "version": "3.12.3"
  }
 },
 "nbformat": 4,
 "nbformat_minor": 0
}
