{
 "cells": [
  {
   "cell_type": "code",
   "execution_count": 1,
   "id": "f0b70ffc",
   "metadata": {},
   "outputs": [],
   "source": [
    "import qiskit\n",
    "import qiskit_aer\n",
    "import qiskit_nature\n",
    "import qiskit_nature_pyscf\n",
    "import qiskit_algorithms\n",
    "import qiskit_nature_pyscf\n",
    "from qiskit_algorithms.minimum_eigensolvers import NumPyMinimumEigensolver, VQE\n",
    "from qiskit_nature.second_q.transformers import FreezeCoreTransformer\n",
    "from qiskit_nature.second_q.formats.molecule_info import MoleculeInfo\n",
    "from qiskit_nature.second_q.mappers import ParityMapper\n",
    "from qiskit_nature.second_q.circuit.library import UCCSD, HartreeFock\n",
    "from qiskit_nature.second_q.drivers import PySCFDriver\n",
    "from qiskit.circuit.library import EfficientSU2\n",
    "from qiskit_nature.second_q.algorithms import GroundStateEigensolver\n",
    "from qiskit_nature.units import DistanceUnit\n",
    "from qiskit_nature.second_q.mappers import JordanWignerMapper\n",
    "from qiskit_aer import  AerSimulator\n",
    "# from qiskit_nature.second_q.algorithms import VQEUCCFactory\n",
    "from qiskit_algorithms.optimizers import SLSQP\n",
    "from qiskit_aer.primitives import Estimator\n",
    "from qiskit_nature.units import DistanceUnit\n",
    "from qiskit_nature.second_q.drivers import PySCFDriver\n",
    "from qiskit_nature.second_q.problems import ElectronicBasis\n",
    "from qiskit_nature.second_q.transformers import ActiveSpaceTransformer\n",
    "from qiskit_nature.second_q.mappers import ParityMapper\n",
    "from scipy.linalg import eigh\n",
    "from qiskit_nature.second_q.circuit.library import HartreeFock\n",
    "from scipy.linalg import expm\n",
    "from qiskit.quantum_info import Statevector\n",
    "from numpy import pi\n",
    "import pylatexenc\n",
    "import numpy as np\n",
    "import matplotlib.pyplot as plt"
   ]
  },
  {
   "cell_type": "code",
   "execution_count": 2,
   "id": "871e2094",
   "metadata": {},
   "outputs": [
    {
     "name": "stdout",
     "output_type": "stream",
     "text": [
      "1.4.0\n",
      "0.17.0\n",
      "0.3.1\n",
      "0.7.2\n",
      "0.4.0\n"
     ]
    }
   ],
   "source": [
    "print(qiskit.__version__)\n",
    "print(qiskit_aer.__version__)\n",
    "print(qiskit_algorithms.__version__)\n",
    "print(qiskit_nature.__version__)\n",
    "print(qiskit_nature_pyscf.__version__)"
   ]
  },
  {
   "cell_type": "code",
   "execution_count": 3,
   "id": "97d688f4",
   "metadata": {},
   "outputs": [],
   "source": [
    "# Define the Li molecule\n",
    "molecule = MoleculeInfo(\n",
    "    symbols=[\"Li\", \"H\"],\n",
    "    coords=([0.0, 0.0, 0.0], [0.0, 0.0, 1.59]),  # Approximate bond distance for He2\n",
    "    multiplicity=1,  # Singlet state\n",
    "    charge=0\n",
    ")\n",
    "\n",
    "# Set up the PySCF driver\n",
    "mdriver = PySCFDriver.from_molecule(\n",
    "    molecule=molecule,\n",
    "    basis=\"sto3g\"\n",
    ")\n",
    "\n",
    "\n",
    "# You can now use the driver to run a calculation\n",
    "electronic_structure_problem = mdriver.run()"
   ]
  },
  {
   "cell_type": "code",
   "execution_count": 4,
   "id": "a94d47d9",
   "metadata": {},
   "outputs": [],
   "source": [
    "mapper = JordanWignerMapper()\n",
    "qubit_hamiltonian = mapper.map(electronic_structure_problem.second_q_ops()[0])"
   ]
  },
  {
   "cell_type": "code",
   "execution_count": 7,
   "id": "4520e3f7",
   "metadata": {},
   "outputs": [],
   "source": [
    "from KQSCI_module import *"
   ]
  },
  {
   "cell_type": "code",
   "execution_count": 8,
   "id": "44d0a9e9",
   "metadata": {},
   "outputs": [],
   "source": [
    "evolved_state_file = \"state_probabilities.txt\"\n",
    "sample_space_size = 3\n",
    "kqsci_size = 3\n",
    "num_qubits = 12\n",
    "state_probabilities = read_states(evolved_state_file)\n",
    "eigenvalues, eigenvectors = kqsci_eign(state_probabilities, num_qubits, sample_space_size, kqsci_size, qubit_hamiltonian)"
   ]
  },
  {
   "cell_type": "code",
   "execution_count": 9,
   "id": "566f3b05",
   "metadata": {},
   "outputs": [
    {
     "data": {
      "text/plain": [
       "array([-7.88023582, -7.12145814, -6.79896824])"
      ]
     },
     "execution_count": 9,
     "metadata": {},
     "output_type": "execute_result"
    }
   ],
   "source": [
    "0.998447567774 + eigenvalues"
   ]
  },
  {
   "cell_type": "code",
   "execution_count": 10,
   "id": "7f622d6d",
   "metadata": {},
   "outputs": [],
   "source": [
    "evolved_state_file = \"state_probabilities.txt\"\n",
    "state_probabilities = read_states(evolved_state_file)\n",
    "max_d = 3\n",
    "max_k = 4\n",
    "with open(\"LiH_KQSCI_result.txt\", \"a\") as file:\n",
    "    for j in range(3, max_k):\n",
    "        for i in range(1, max_d):\n",
    "            \n",
    "            sample_space_size = i\n",
    "            kqsci_size = j\n",
    "            num_qubits = 12\n",
    "            \n",
    "            eigenvalues, eigenvectors = kqsci_eign(state_probabilities, num_qubits, sample_space_size, kqsci_size, qubit_hamiltonian)\n",
    "            gs_energy = eigenvalues[0] + 0.998447567774\n",
    "            error = (7.882472287557 + eigenvalues[0] + 0.998447567774) / 7.882472287557 * 100\n",
    "            file.write(f\"sample_space_size(d): {sample_space_size}, kqsci_size(k): {kqsci_size}, gs_energy: {gs_energy}, error: {error}\\n\")\n",
    "            file.flush()  # Ensure the data is written to the file immediately"
   ]
  },
  {
   "cell_type": "code",
   "execution_count": 11,
   "id": "215f5b98",
   "metadata": {},
   "outputs": [],
   "source": [
    "def selection_full(state_probabilities):\n",
    "    result = []\n",
    "    print(\"Before normalising the states:\")\n",
    "    for time in sorted(state_probabilities.keys()):\n",
    "        # Append all the states from all times\n",
    "        for state, probability in state_probabilities[time].items():\n",
    "            if state not in result:\n",
    "                result.append(state)\n",
    "            else:\n",
    "                continue\n",
    "    return result"
   ]
  },
  {
   "cell_type": "code",
   "execution_count": 12,
   "id": "5f0b22ed",
   "metadata": {},
   "outputs": [
    {
     "name": "stdout",
     "output_type": "stream",
     "text": [
      "Before normalising the states:\n"
     ]
    },
    {
     "data": {
      "text/plain": [
       "59"
      ]
     },
     "execution_count": 12,
     "metadata": {},
     "output_type": "execute_result"
    }
   ],
   "source": [
    "states_chis = selection_full(state_probabilities)\n",
    "len(states_chis)"
   ]
  },
  {
   "cell_type": "code",
   "execution_count": 13,
   "id": "08f7c729",
   "metadata": {},
   "outputs": [],
   "source": [
    "states= states_chis[:20]"
   ]
  },
  {
   "cell_type": "code",
   "execution_count": 14,
   "id": "02cf4fbd",
   "metadata": {},
   "outputs": [],
   "source": [
    "eignva, eignve = kqsci_solver_full(qubit_hamiltonian, states, \"E_sub_matrix.txt\")"
   ]
  },
  {
   "cell_type": "code",
   "execution_count": 15,
   "id": "558c6425",
   "metadata": {},
   "outputs": [
    {
     "data": {
      "text/plain": [
       "np.float64(-7.88242611309071)"
      ]
     },
     "execution_count": 15,
     "metadata": {},
     "output_type": "execute_result"
    }
   ],
   "source": [
    "eignva[0] + 0.998447567774"
   ]
  },
  {
   "cell_type": "code",
   "execution_count": 16,
   "id": "f3a5287c",
   "metadata": {},
   "outputs": [],
   "source": [
    "from KQSCI_module import kqsci_solver_full_parallel"
   ]
  },
  {
   "cell_type": "code",
   "execution_count": 19,
   "id": "97de1f84",
   "metadata": {},
   "outputs": [
    {
     "data": {
      "text/plain": [
       "['000011000011',\n",
       " '100001100001',\n",
       " '100001000101',\n",
       " '000101100001',\n",
       " '001001001001',\n",
       " '010001010010',\n",
       " '010001010001',\n",
       " '000110000110',\n",
       " '001010001010',\n",
       " '000101000101',\n",
       " '100001000011',\n",
       " '100010100010',\n",
       " '000101000011',\n",
       " '000110000011',\n",
       " '010010010001',\n",
       " '001001001010',\n",
       " '000011000101',\n",
       " '010010010010',\n",
       " '000011100001',\n",
       " '000011000110',\n",
       " '100010000011',\n",
       " '001010001001',\n",
       " '100100000011',\n",
       " '000011100100',\n",
       " '000110100010',\n",
       " '100001100100',\n",
       " '100100100001',\n",
       " '011000011000',\n",
       " '101000101000',\n",
       " '100010100001']"
      ]
     },
     "execution_count": 19,
     "metadata": {},
     "output_type": "execute_result"
    }
   ],
   "source": [
    "states = states_chis[:30]\n",
    "states"
   ]
  },
  {
   "cell_type": "code",
   "execution_count": 20,
   "id": "ae28abd2",
   "metadata": {},
   "outputs": [],
   "source": [
    "eigenvalues, eigenvectors = kqsci_solver_full_parallel(qubit_hamiltonian, states, \"E_sub_matrix_parallel.txt\", -1)"
   ]
  },
  {
   "cell_type": "code",
   "execution_count": 21,
   "id": "029d1fc3",
   "metadata": {},
   "outputs": [
    {
     "data": {
      "text/plain": [
       "np.float64(-7.882452899871752)"
      ]
     },
     "execution_count": 21,
     "metadata": {},
     "output_type": "execute_result"
    }
   ],
   "source": [
    "eigenvalues[0] + 0.998447567774"
   ]
  },
  {
   "cell_type": "code",
   "execution_count": 22,
   "id": "881775e7",
   "metadata": {},
   "outputs": [],
   "source": [
    "states = states_chis[:40]"
   ]
  },
  {
   "cell_type": "code",
   "execution_count": 23,
   "id": "b4b5681a",
   "metadata": {},
   "outputs": [],
   "source": [
    "eigenvalues, eigenvectors = kqsci_solver_full_parallel(qubit_hamiltonian, states, \"E_sub_matrix_parallel_40.txt\", -1)"
   ]
  },
  {
   "cell_type": "code",
   "execution_count": 25,
   "id": "76e8509c",
   "metadata": {},
   "outputs": [
    {
     "data": {
      "text/plain": [
       "np.float64(-7.88246001689081)"
      ]
     },
     "execution_count": 25,
     "metadata": {},
     "output_type": "execute_result"
    }
   ],
   "source": [
    "eigenvalues[0] + 0.998447567774"
   ]
  },
  {
   "cell_type": "code",
   "execution_count": 27,
   "id": "49431874",
   "metadata": {},
   "outputs": [
    {
     "data": {
      "text/plain": [
       "np.float64(-7.881936929500559)"
      ]
     },
     "execution_count": 27,
     "metadata": {},
     "output_type": "execute_result"
    }
   ],
   "source": [
    "states = states_chis[:10]\n",
    "eigenvalues, eigenvectors = kqsci_solver_full_parallel(qubit_hamiltonian, states, \"E_sub_matrix_parallel_10.txt\", -1)\n",
    "eigenvalues[0] + 0.998447567774"
   ]
  }
 ],
 "metadata": {
  "kernelspec": {
   "display_name": "myvenv",
   "language": "python",
   "name": "python3"
  },
  "language_info": {
   "codemirror_mode": {
    "name": "ipython",
    "version": 3
   },
   "file_extension": ".py",
   "mimetype": "text/x-python",
   "name": "python",
   "nbconvert_exporter": "python",
   "pygments_lexer": "ipython3",
   "version": "3.12.3"
  }
 },
 "nbformat": 4,
 "nbformat_minor": 5
}
